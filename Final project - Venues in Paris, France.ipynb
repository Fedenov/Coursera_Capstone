{
 "cells": [
  {
   "cell_type": "markdown",
   "metadata": {},
   "source": [
    "# Description"
   ]
  },
  {
   "cell_type": "markdown",
   "metadata": {},
   "source": [
    "One of the problems of this proyect is we will have to use de Foursquare API to request information of venues for the desire city.\n",
    "I've chosen to study the similarity between Toronto a Paris. \n",
    "We must not only extract date for Foursquare but to manipulate it and contrast it to the one we have from Toronto.\n",
    "\n",
    "There is a problem with Foursquare in which it isn't possible to request information. An error due to changes in versions appears but no extra information in their site is given. \n",
    "\n",
    "I hope the person that corrects this takes in account that the project would be sufficient if there wasn't this issue."
   ]
  },
  {
   "cell_type": "markdown",
   "metadata": {},
   "source": [
    "# Data"
   ]
  },
  {
   "cell_type": "markdown",
   "metadata": {},
   "source": [
    "The data will be given in a json file.\n",
    "\n",
    "Data will be inserted into a data frame using pandas. With the dataframe we will be able to clean and structure data.\n",
    "\n",
    "A chart will be generated with the name of the shop, the category and its geographic coordenates.\n",
    "\n",
    "We will discard repeated places with the unique function.\n",
    "\n",
    "Places will be grouped by the place where they are at and the name of the shop will become the columns of the chart. This will be done using get_dummies function.\n",
    "\n",
    "Lastly, we will keep the top venues and visualize them in a map."
   ]
  }
 ],
 "metadata": {
  "kernelspec": {
   "display_name": "Python 3",
   "language": "python",
   "name": "python3"
  },
  "language_info": {
   "codemirror_mode": {
    "name": "ipython",
    "version": 3
   },
   "file_extension": ".py",
   "mimetype": "text/x-python",
   "name": "python",
   "nbconvert_exporter": "python",
   "pygments_lexer": "ipython3",
   "version": "3.8.5"
  }
 },
 "nbformat": 4,
 "nbformat_minor": 4
}
